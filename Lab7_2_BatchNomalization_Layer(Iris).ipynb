{
  "nbformat": 4,
  "nbformat_minor": 0,
  "metadata": {
    "colab": {
      "name": "Lab7.2_BatchNomalization_Layer(Iris).ipynb",
      "provenance": [],
      "collapsed_sections": [],
      "authorship_tag": "ABX9TyNn+KvmTHewwiz9NU8jC4xa",
      "include_colab_link": true
    },
    "kernelspec": {
      "name": "python3",
      "display_name": "Python 3"
    }
  },
  "cells": [
    {
      "cell_type": "markdown",
      "metadata": {
        "id": "view-in-github",
        "colab_type": "text"
      },
      "source": [
        "<a href=\"https://colab.research.google.com/github/minkyeongk/MachineLearning_Basic/blob/master/Lab7_2_BatchNomalization_Layer(Iris).ipynb\" target=\"_parent\"><img src=\"https://colab.research.google.com/assets/colab-badge.svg\" alt=\"Open In Colab\"/></a>"
      ]
    },
    {
      "cell_type": "markdown",
      "metadata": {
        "id": "Z3qNpPHUjtCg",
        "colab_type": "text"
      },
      "source": [
        "학습이 잘 되는 모델\n",
        "- 사용할 레이어\n",
        "  *   tf.keras.layers.BatchNomalization()\n",
        "  *   tf.keras.layers.Activation('swish')"
      ]
    },
    {
      "cell_type": "code",
      "metadata": {
        "id": "jm27pnnR4OrM",
        "colab_type": "code",
        "colab": {}
      },
      "source": [
        "# import library\n",
        "import tensorflow as tf\n",
        "import pandas as pd"
      ],
      "execution_count": 21,
      "outputs": []
    },
    {
      "cell_type": "code",
      "metadata": {
        "id": "jUtkSc_UEiZS",
        "colab_type": "code",
        "colab": {
          "base_uri": "https://localhost:8080/",
          "height": 200
        },
        "outputId": "a954b3e4-eced-4d0d-8552-b5e761c08f92"
      },
      "source": [
        "# 1. prepare last data \n",
        "file_path = 'https://raw.githubusercontent.com/blackdew/tensorflow1/master/csv/iris.csv'\n",
        "iris = pd.read_csv(file_path)\n",
        "iris.head()"
      ],
      "execution_count": 22,
      "outputs": [
        {
          "output_type": "execute_result",
          "data": {
            "text/html": [
              "<div>\n",
              "<style scoped>\n",
              "    .dataframe tbody tr th:only-of-type {\n",
              "        vertical-align: middle;\n",
              "    }\n",
              "\n",
              "    .dataframe tbody tr th {\n",
              "        vertical-align: top;\n",
              "    }\n",
              "\n",
              "    .dataframe thead th {\n",
              "        text-align: right;\n",
              "    }\n",
              "</style>\n",
              "<table border=\"1\" class=\"dataframe\">\n",
              "  <thead>\n",
              "    <tr style=\"text-align: right;\">\n",
              "      <th></th>\n",
              "      <th>꽃잎길이</th>\n",
              "      <th>꽃잎폭</th>\n",
              "      <th>꽃받침길이</th>\n",
              "      <th>꽃받침폭</th>\n",
              "      <th>품종</th>\n",
              "    </tr>\n",
              "  </thead>\n",
              "  <tbody>\n",
              "    <tr>\n",
              "      <th>0</th>\n",
              "      <td>5.1</td>\n",
              "      <td>3.5</td>\n",
              "      <td>1.4</td>\n",
              "      <td>0.2</td>\n",
              "      <td>setosa</td>\n",
              "    </tr>\n",
              "    <tr>\n",
              "      <th>1</th>\n",
              "      <td>4.9</td>\n",
              "      <td>3.0</td>\n",
              "      <td>1.4</td>\n",
              "      <td>0.2</td>\n",
              "      <td>setosa</td>\n",
              "    </tr>\n",
              "    <tr>\n",
              "      <th>2</th>\n",
              "      <td>4.7</td>\n",
              "      <td>3.2</td>\n",
              "      <td>1.3</td>\n",
              "      <td>0.2</td>\n",
              "      <td>setosa</td>\n",
              "    </tr>\n",
              "    <tr>\n",
              "      <th>3</th>\n",
              "      <td>4.6</td>\n",
              "      <td>3.1</td>\n",
              "      <td>1.5</td>\n",
              "      <td>0.2</td>\n",
              "      <td>setosa</td>\n",
              "    </tr>\n",
              "    <tr>\n",
              "      <th>4</th>\n",
              "      <td>5.0</td>\n",
              "      <td>3.6</td>\n",
              "      <td>1.4</td>\n",
              "      <td>0.2</td>\n",
              "      <td>setosa</td>\n",
              "    </tr>\n",
              "  </tbody>\n",
              "</table>\n",
              "</div>"
            ],
            "text/plain": [
              "   꽃잎길이  꽃잎폭  꽃받침길이  꽃받침폭      품종\n",
              "0   5.1  3.5    1.4   0.2  setosa\n",
              "1   4.9  3.0    1.4   0.2  setosa\n",
              "2   4.7  3.2    1.3   0.2  setosa\n",
              "3   4.6  3.1    1.5   0.2  setosa\n",
              "4   5.0  3.6    1.4   0.2  setosa"
            ]
          },
          "metadata": {
            "tags": []
          },
          "execution_count": 22
        }
      ]
    },
    {
      "cell_type": "code",
      "metadata": {
        "id": "M0nsoWNsFIyh",
        "colab_type": "code",
        "colab": {
          "base_uri": "https://localhost:8080/",
          "height": 217
        },
        "outputId": "2001b89b-10af-4aab-9145-0190618c25b2"
      },
      "source": [
        "# onehot-encoding\n",
        "onehot = pd.get_dummies(iris)\n",
        "onehot.head()"
      ],
      "execution_count": 23,
      "outputs": [
        {
          "output_type": "execute_result",
          "data": {
            "text/html": [
              "<div>\n",
              "<style scoped>\n",
              "    .dataframe tbody tr th:only-of-type {\n",
              "        vertical-align: middle;\n",
              "    }\n",
              "\n",
              "    .dataframe tbody tr th {\n",
              "        vertical-align: top;\n",
              "    }\n",
              "\n",
              "    .dataframe thead th {\n",
              "        text-align: right;\n",
              "    }\n",
              "</style>\n",
              "<table border=\"1\" class=\"dataframe\">\n",
              "  <thead>\n",
              "    <tr style=\"text-align: right;\">\n",
              "      <th></th>\n",
              "      <th>꽃잎길이</th>\n",
              "      <th>꽃잎폭</th>\n",
              "      <th>꽃받침길이</th>\n",
              "      <th>꽃받침폭</th>\n",
              "      <th>품종_setosa</th>\n",
              "      <th>품종_versicolor</th>\n",
              "      <th>품종_virginica</th>\n",
              "    </tr>\n",
              "  </thead>\n",
              "  <tbody>\n",
              "    <tr>\n",
              "      <th>0</th>\n",
              "      <td>5.1</td>\n",
              "      <td>3.5</td>\n",
              "      <td>1.4</td>\n",
              "      <td>0.2</td>\n",
              "      <td>1</td>\n",
              "      <td>0</td>\n",
              "      <td>0</td>\n",
              "    </tr>\n",
              "    <tr>\n",
              "      <th>1</th>\n",
              "      <td>4.9</td>\n",
              "      <td>3.0</td>\n",
              "      <td>1.4</td>\n",
              "      <td>0.2</td>\n",
              "      <td>1</td>\n",
              "      <td>0</td>\n",
              "      <td>0</td>\n",
              "    </tr>\n",
              "    <tr>\n",
              "      <th>2</th>\n",
              "      <td>4.7</td>\n",
              "      <td>3.2</td>\n",
              "      <td>1.3</td>\n",
              "      <td>0.2</td>\n",
              "      <td>1</td>\n",
              "      <td>0</td>\n",
              "      <td>0</td>\n",
              "    </tr>\n",
              "    <tr>\n",
              "      <th>3</th>\n",
              "      <td>4.6</td>\n",
              "      <td>3.1</td>\n",
              "      <td>1.5</td>\n",
              "      <td>0.2</td>\n",
              "      <td>1</td>\n",
              "      <td>0</td>\n",
              "      <td>0</td>\n",
              "    </tr>\n",
              "    <tr>\n",
              "      <th>4</th>\n",
              "      <td>5.0</td>\n",
              "      <td>3.6</td>\n",
              "      <td>1.4</td>\n",
              "      <td>0.2</td>\n",
              "      <td>1</td>\n",
              "      <td>0</td>\n",
              "      <td>0</td>\n",
              "    </tr>\n",
              "  </tbody>\n",
              "</table>\n",
              "</div>"
            ],
            "text/plain": [
              "   꽃잎길이  꽃잎폭  꽃받침길이  꽃받침폭  품종_setosa  품종_versicolor  품종_virginica\n",
              "0   5.1  3.5    1.4   0.2          1              0             0\n",
              "1   4.9  3.0    1.4   0.2          1              0             0\n",
              "2   4.7  3.2    1.3   0.2          1              0             0\n",
              "3   4.6  3.1    1.5   0.2          1              0             0\n",
              "4   5.0  3.6    1.4   0.2          1              0             0"
            ]
          },
          "metadata": {
            "tags": []
          },
          "execution_count": 23
        }
      ]
    },
    {
      "cell_type": "code",
      "metadata": {
        "id": "YeDvgAEYWNPD",
        "colab_type": "code",
        "colab": {
          "base_uri": "https://localhost:8080/",
          "height": 70
        },
        "outputId": "8e8907b4-4924-467f-edbb-f9c6c854ed69"
      },
      "source": [
        "print(onehot.columns)"
      ],
      "execution_count": 24,
      "outputs": [
        {
          "output_type": "stream",
          "text": [
            "Index(['꽃잎길이', '꽃잎폭', '꽃받침길이', '꽃받침폭', '품종_setosa', '품종_versicolor',\n",
            "       '품종_virginica'],\n",
            "      dtype='object')\n"
          ],
          "name": "stdout"
        }
      ]
    },
    {
      "cell_type": "code",
      "metadata": {
        "id": "rmuMF0kvVts8",
        "colab_type": "code",
        "colab": {
          "base_uri": "https://localhost:8080/",
          "height": 35
        },
        "outputId": "8218208f-b984-4b05-8937-4e5760f77d96"
      },
      "source": [
        "# separate independent and dependent variables\n",
        "independent = onehot[['꽃잎길이', '꽃잎폭', '꽃받침길이', '꽃받침폭']]\n",
        "dependent = onehot[['품종_setosa', '품종_versicolor', '품종_virginica']]\n",
        "print(independent.shape, dependent.shape)"
      ],
      "execution_count": 25,
      "outputs": [
        {
          "output_type": "stream",
          "text": [
            "(150, 4) (150, 3)\n"
          ],
          "name": "stdout"
        }
      ]
    },
    {
      "cell_type": "code",
      "metadata": {
        "id": "a-VhL_L2WD6a",
        "colab_type": "code",
        "colab": {}
      },
      "source": [
        "# 2. create structure of model\n",
        "x = tf.keras.layers.Input(shape=[4])\n",
        "\n",
        "# add 3 hidden layers\n",
        "h = tf.keras.layers.Dense(8, activation='swish')(x)\n",
        "h = tf.keras.layers.Dense(8, activation='swish')(h)\n",
        "h = tf.keras.layers.Dense(8, activation='swish')(h)\n",
        "y = tf.keras.layers.Dense(3, activation='softmax')(h)\n",
        "model = tf.keras.models.Model(x, y)\n",
        "model.compile(loss = 'categorical_crossentropy', metrics = 'accuracy')"
      ],
      "execution_count": 17,
      "outputs": []
    },
    {
      "cell_type": "code",
      "metadata": {
        "id": "LW6G4OOFmtgA",
        "colab_type": "code",
        "colab": {}
      },
      "source": [
        "# 2. create structure of model using BatchNomalization\n",
        "# 이는 위 식과 동일, BatchNomalization을 dense layer와 activation layer 사이에 넣어주는 것이 좋기 때문에 분리 \n",
        "x = tf.keras.layers.Input(shape=[4])\n",
        "\n",
        "# add 3 hidden layers\n",
        "h = tf.keras.layers.Dense(8)(x)\n",
        "h = tf.keras.layers.BatchNormalization()(h)\n",
        "h = tf.keras.layers.Activation('swish')(h)\n",
        "\n",
        "h = tf.keras.layers.Dense(8)(h)\n",
        "h = tf.keras.layers.BatchNormalization()(h)\n",
        "h = tf.keras.layers.Activation('swish')(h)\n",
        "\n",
        "h = tf.keras.layers.Dense(8)(h)\n",
        "h = tf.keras.layers.BatchNormalization()(h)\n",
        "h = tf.keras.layers.Activation('swish')(h)\n",
        "\n",
        "y = tf.keras.layers.Dense(3, activation='softmax')(h)\n",
        "model = tf.keras.models.Model(x, y)\n",
        "model.compile(loss = 'categorical_crossentropy', metrics = 'accuracy')\n",
        "\n",
        "# Batch 전: 0.04 에서0.05\n",
        "# Batch 이후: 0.02 까지, accuracy 100프로가 나오기도 함 "
      ],
      "execution_count": 19,
      "outputs": []
    },
    {
      "cell_type": "code",
      "metadata": {
        "id": "iOZwu9lwXzOv",
        "colab_type": "code",
        "colab": {
          "base_uri": "https://localhost:8080/",
          "height": 390
        },
        "outputId": "f85b51fe-eb02-4aea-f173-ce0a1e1eb9d8"
      },
      "source": [
        "# 3. train model\n",
        "model.fit(independent, dependent, epochs = 1000, verbose = 0)\n",
        "model.fit(independent, dependent, epochs = 10)"
      ],
      "execution_count": 26,
      "outputs": [
        {
          "output_type": "stream",
          "text": [
            "Epoch 1/10\n",
            "5/5 [==============================] - 0s 2ms/step - loss: 0.0465 - accuracy: 0.9867\n",
            "Epoch 2/10\n",
            "5/5 [==============================] - 0s 2ms/step - loss: 0.1116 - accuracy: 0.9467\n",
            "Epoch 3/10\n",
            "5/5 [==============================] - 0s 2ms/step - loss: 0.0144 - accuracy: 1.0000\n",
            "Epoch 4/10\n",
            "5/5 [==============================] - 0s 2ms/step - loss: 0.0216 - accuracy: 0.9867\n",
            "Epoch 5/10\n",
            "5/5 [==============================] - 0s 2ms/step - loss: 0.0184 - accuracy: 1.0000\n",
            "Epoch 6/10\n",
            "5/5 [==============================] - 0s 3ms/step - loss: 0.0360 - accuracy: 0.9867\n",
            "Epoch 7/10\n",
            "5/5 [==============================] - 0s 2ms/step - loss: 0.0655 - accuracy: 0.9733\n",
            "Epoch 8/10\n",
            "5/5 [==============================] - 0s 2ms/step - loss: 0.0207 - accuracy: 0.9933\n",
            "Epoch 9/10\n",
            "5/5 [==============================] - 0s 2ms/step - loss: 0.0204 - accuracy: 0.9933\n",
            "Epoch 10/10\n",
            "5/5 [==============================] - 0s 2ms/step - loss: 0.0213 - accuracy: 0.9867\n"
          ],
          "name": "stdout"
        },
        {
          "output_type": "execute_result",
          "data": {
            "text/plain": [
              "<tensorflow.python.keras.callbacks.History at 0x7fbe781c9278>"
            ]
          },
          "metadata": {
            "tags": []
          },
          "execution_count": 26
        }
      ]
    },
    {
      "cell_type": "code",
      "metadata": {
        "id": "sAMwGEhKYRjF",
        "colab_type": "code",
        "colab": {
          "base_uri": "https://localhost:8080/",
          "height": 106
        },
        "outputId": "23077537-3bff-4882-9a0d-bd1ba62db2c3"
      },
      "source": [
        "# 4. use the model\n",
        "model.predict(independent[0:5])"
      ],
      "execution_count": 27,
      "outputs": [
        {
          "output_type": "execute_result",
          "data": {
            "text/plain": [
              "array([[1.0000000e+00, 2.2072845e-12, 7.9976967e-18],\n",
              "       [1.0000000e+00, 1.7591589e-09, 7.6191005e-16],\n",
              "       [1.0000000e+00, 4.3081311e-12, 2.9007863e-18],\n",
              "       [1.0000000e+00, 9.6009722e-10, 2.1637090e-15],\n",
              "       [1.0000000e+00, 2.9898737e-13, 3.6238708e-18]], dtype=float32)"
            ]
          },
          "metadata": {
            "tags": []
          },
          "execution_count": 27
        }
      ]
    },
    {
      "cell_type": "code",
      "metadata": {
        "id": "JavfnHqFYnhC",
        "colab_type": "code",
        "colab": {
          "base_uri": "https://localhost:8080/",
          "height": 124
        },
        "outputId": "9c4a98b1-6156-4d56-ebb3-b3dd502ca780"
      },
      "source": [
        "print(dependent[0:5])"
      ],
      "execution_count": 28,
      "outputs": [
        {
          "output_type": "stream",
          "text": [
            "   품종_setosa  품종_versicolor  품종_virginica\n",
            "0          1              0             0\n",
            "1          1              0             0\n",
            "2          1              0             0\n",
            "3          1              0             0\n",
            "4          1              0             0\n"
          ],
          "name": "stdout"
        }
      ]
    },
    {
      "cell_type": "code",
      "metadata": {
        "id": "3kMQssBQbeXO",
        "colab_type": "code",
        "colab": {
          "base_uri": "https://localhost:8080/",
          "height": 106
        },
        "outputId": "344e8d83-9d36-4f19-f9ac-b2b1e76d2592"
      },
      "source": [
        "model.predict(independent[-5:])"
      ],
      "execution_count": 29,
      "outputs": [
        {
          "output_type": "execute_result",
          "data": {
            "text/plain": [
              "array([[4.0769226e-08, 8.9387586e-06, 9.9999106e-01],\n",
              "       [1.2684015e-07, 2.4255760e-05, 9.9997556e-01],\n",
              "       [1.3598599e-07, 3.7448877e-05, 9.9996245e-01],\n",
              "       [8.3452868e-08, 3.3535809e-05, 9.9996638e-01],\n",
              "       [1.6725449e-05, 3.8858291e-03, 9.9609751e-01]], dtype=float32)"
            ]
          },
          "metadata": {
            "tags": []
          },
          "execution_count": 29
        }
      ]
    },
    {
      "cell_type": "code",
      "metadata": {
        "id": "o7yM7_1vbzIk",
        "colab_type": "code",
        "colab": {
          "base_uri": "https://localhost:8080/",
          "height": 124
        },
        "outputId": "13833c0e-ed66-4da6-f2ce-fe7dd6a7a274"
      },
      "source": [
        "print(dependent[-5:])"
      ],
      "execution_count": 30,
      "outputs": [
        {
          "output_type": "stream",
          "text": [
            "     품종_setosa  품종_versicolor  품종_virginica\n",
            "145          0              0             1\n",
            "146          0              0             1\n",
            "147          0              0             1\n",
            "148          0              0             1\n",
            "149          0              0             1\n"
          ],
          "name": "stdout"
        }
      ]
    }
  ]
}