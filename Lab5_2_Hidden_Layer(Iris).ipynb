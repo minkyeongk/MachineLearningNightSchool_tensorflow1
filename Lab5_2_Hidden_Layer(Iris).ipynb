{
  "nbformat": 4,
  "nbformat_minor": 0,
  "metadata": {
    "colab": {
      "name": "Lab5.2_Hidden_Layer(Iris).ipynb",
      "provenance": [],
      "collapsed_sections": [],
      "authorship_tag": "ABX9TyPnMcQobJhL1bVHqxInCdih",
      "include_colab_link": true
    },
    "kernelspec": {
      "name": "python3",
      "display_name": "Python 3"
    }
  },
  "cells": [
    {
      "cell_type": "markdown",
      "metadata": {
        "id": "view-in-github",
        "colab_type": "text"
      },
      "source": [
        "<a href=\"https://colab.research.google.com/github/minkyeongk/MachineLearning_Basic/blob/master/Lab5_2_Hidden_Layer(Iris).ipynb\" target=\"_parent\"><img src=\"https://colab.research.google.com/assets/colab-badge.svg\" alt=\"Open In Colab\"/></a>"
      ]
    },
    {
      "cell_type": "code",
      "metadata": {
        "id": "jm27pnnR4OrM",
        "colab_type": "code",
        "colab": {}
      },
      "source": [
        "# import library\n",
        "import tensorflow as tf\n",
        "import pandas as pd"
      ],
      "execution_count": 3,
      "outputs": []
    },
    {
      "cell_type": "code",
      "metadata": {
        "id": "jUtkSc_UEiZS",
        "colab_type": "code",
        "colab": {
          "base_uri": "https://localhost:8080/",
          "height": 200
        },
        "outputId": "90a1f110-4c44-4007-c4b6-2a2a5387a535"
      },
      "source": [
        "# 1. prepare last data \n",
        "file_path = 'https://raw.githubusercontent.com/blackdew/tensorflow1/master/csv/iris.csv'\n",
        "iris = pd.read_csv(file_path)\n",
        "iris.head()"
      ],
      "execution_count": 4,
      "outputs": [
        {
          "output_type": "execute_result",
          "data": {
            "text/html": [
              "<div>\n",
              "<style scoped>\n",
              "    .dataframe tbody tr th:only-of-type {\n",
              "        vertical-align: middle;\n",
              "    }\n",
              "\n",
              "    .dataframe tbody tr th {\n",
              "        vertical-align: top;\n",
              "    }\n",
              "\n",
              "    .dataframe thead th {\n",
              "        text-align: right;\n",
              "    }\n",
              "</style>\n",
              "<table border=\"1\" class=\"dataframe\">\n",
              "  <thead>\n",
              "    <tr style=\"text-align: right;\">\n",
              "      <th></th>\n",
              "      <th>꽃잎길이</th>\n",
              "      <th>꽃잎폭</th>\n",
              "      <th>꽃받침길이</th>\n",
              "      <th>꽃받침폭</th>\n",
              "      <th>품종</th>\n",
              "    </tr>\n",
              "  </thead>\n",
              "  <tbody>\n",
              "    <tr>\n",
              "      <th>0</th>\n",
              "      <td>5.1</td>\n",
              "      <td>3.5</td>\n",
              "      <td>1.4</td>\n",
              "      <td>0.2</td>\n",
              "      <td>setosa</td>\n",
              "    </tr>\n",
              "    <tr>\n",
              "      <th>1</th>\n",
              "      <td>4.9</td>\n",
              "      <td>3.0</td>\n",
              "      <td>1.4</td>\n",
              "      <td>0.2</td>\n",
              "      <td>setosa</td>\n",
              "    </tr>\n",
              "    <tr>\n",
              "      <th>2</th>\n",
              "      <td>4.7</td>\n",
              "      <td>3.2</td>\n",
              "      <td>1.3</td>\n",
              "      <td>0.2</td>\n",
              "      <td>setosa</td>\n",
              "    </tr>\n",
              "    <tr>\n",
              "      <th>3</th>\n",
              "      <td>4.6</td>\n",
              "      <td>3.1</td>\n",
              "      <td>1.5</td>\n",
              "      <td>0.2</td>\n",
              "      <td>setosa</td>\n",
              "    </tr>\n",
              "    <tr>\n",
              "      <th>4</th>\n",
              "      <td>5.0</td>\n",
              "      <td>3.6</td>\n",
              "      <td>1.4</td>\n",
              "      <td>0.2</td>\n",
              "      <td>setosa</td>\n",
              "    </tr>\n",
              "  </tbody>\n",
              "</table>\n",
              "</div>"
            ],
            "text/plain": [
              "   꽃잎길이  꽃잎폭  꽃받침길이  꽃받침폭      품종\n",
              "0   5.1  3.5    1.4   0.2  setosa\n",
              "1   4.9  3.0    1.4   0.2  setosa\n",
              "2   4.7  3.2    1.3   0.2  setosa\n",
              "3   4.6  3.1    1.5   0.2  setosa\n",
              "4   5.0  3.6    1.4   0.2  setosa"
            ]
          },
          "metadata": {
            "tags": []
          },
          "execution_count": 4
        }
      ]
    },
    {
      "cell_type": "code",
      "metadata": {
        "id": "M0nsoWNsFIyh",
        "colab_type": "code",
        "colab": {
          "base_uri": "https://localhost:8080/",
          "height": 217
        },
        "outputId": "f7e21a32-cb6f-41aa-c4e8-9ef02b3d5820"
      },
      "source": [
        "# onehot-encoding\n",
        "onehot = pd.get_dummies(iris)\n",
        "onehot.head()"
      ],
      "execution_count": 5,
      "outputs": [
        {
          "output_type": "execute_result",
          "data": {
            "text/html": [
              "<div>\n",
              "<style scoped>\n",
              "    .dataframe tbody tr th:only-of-type {\n",
              "        vertical-align: middle;\n",
              "    }\n",
              "\n",
              "    .dataframe tbody tr th {\n",
              "        vertical-align: top;\n",
              "    }\n",
              "\n",
              "    .dataframe thead th {\n",
              "        text-align: right;\n",
              "    }\n",
              "</style>\n",
              "<table border=\"1\" class=\"dataframe\">\n",
              "  <thead>\n",
              "    <tr style=\"text-align: right;\">\n",
              "      <th></th>\n",
              "      <th>꽃잎길이</th>\n",
              "      <th>꽃잎폭</th>\n",
              "      <th>꽃받침길이</th>\n",
              "      <th>꽃받침폭</th>\n",
              "      <th>품종_setosa</th>\n",
              "      <th>품종_versicolor</th>\n",
              "      <th>품종_virginica</th>\n",
              "    </tr>\n",
              "  </thead>\n",
              "  <tbody>\n",
              "    <tr>\n",
              "      <th>0</th>\n",
              "      <td>5.1</td>\n",
              "      <td>3.5</td>\n",
              "      <td>1.4</td>\n",
              "      <td>0.2</td>\n",
              "      <td>1</td>\n",
              "      <td>0</td>\n",
              "      <td>0</td>\n",
              "    </tr>\n",
              "    <tr>\n",
              "      <th>1</th>\n",
              "      <td>4.9</td>\n",
              "      <td>3.0</td>\n",
              "      <td>1.4</td>\n",
              "      <td>0.2</td>\n",
              "      <td>1</td>\n",
              "      <td>0</td>\n",
              "      <td>0</td>\n",
              "    </tr>\n",
              "    <tr>\n",
              "      <th>2</th>\n",
              "      <td>4.7</td>\n",
              "      <td>3.2</td>\n",
              "      <td>1.3</td>\n",
              "      <td>0.2</td>\n",
              "      <td>1</td>\n",
              "      <td>0</td>\n",
              "      <td>0</td>\n",
              "    </tr>\n",
              "    <tr>\n",
              "      <th>3</th>\n",
              "      <td>4.6</td>\n",
              "      <td>3.1</td>\n",
              "      <td>1.5</td>\n",
              "      <td>0.2</td>\n",
              "      <td>1</td>\n",
              "      <td>0</td>\n",
              "      <td>0</td>\n",
              "    </tr>\n",
              "    <tr>\n",
              "      <th>4</th>\n",
              "      <td>5.0</td>\n",
              "      <td>3.6</td>\n",
              "      <td>1.4</td>\n",
              "      <td>0.2</td>\n",
              "      <td>1</td>\n",
              "      <td>0</td>\n",
              "      <td>0</td>\n",
              "    </tr>\n",
              "  </tbody>\n",
              "</table>\n",
              "</div>"
            ],
            "text/plain": [
              "   꽃잎길이  꽃잎폭  꽃받침길이  꽃받침폭  품종_setosa  품종_versicolor  품종_virginica\n",
              "0   5.1  3.5    1.4   0.2          1              0             0\n",
              "1   4.9  3.0    1.4   0.2          1              0             0\n",
              "2   4.7  3.2    1.3   0.2          1              0             0\n",
              "3   4.6  3.1    1.5   0.2          1              0             0\n",
              "4   5.0  3.6    1.4   0.2          1              0             0"
            ]
          },
          "metadata": {
            "tags": []
          },
          "execution_count": 5
        }
      ]
    },
    {
      "cell_type": "code",
      "metadata": {
        "id": "YeDvgAEYWNPD",
        "colab_type": "code",
        "colab": {
          "base_uri": "https://localhost:8080/",
          "height": 90
        },
        "outputId": "7521a37e-bbd4-4e75-9c3a-b32378b1fa86"
      },
      "source": [
        "print(onehot.columns)"
      ],
      "execution_count": 6,
      "outputs": [
        {
          "output_type": "stream",
          "text": [
            "Index(['꽃잎길이', '꽃잎폭', '꽃받침길이', '꽃받침폭', '품종_setosa', '품종_versicolor',\n",
            "       '품종_virginica'],\n",
            "      dtype='object')\n"
          ],
          "name": "stdout"
        }
      ]
    },
    {
      "cell_type": "code",
      "metadata": {
        "id": "rmuMF0kvVts8",
        "colab_type": "code",
        "colab": {
          "base_uri": "https://localhost:8080/",
          "height": 35
        },
        "outputId": "9d6cfbdd-e041-4a15-d01f-4b0f06c47e98"
      },
      "source": [
        "# separate independent and dependent variables\n",
        "independent = onehot[['꽃잎길이', '꽃잎폭', '꽃받침길이', '꽃받침폭']]\n",
        "dependent = onehot[['품종_setosa', '품종_versicolor', '품종_virginica']]\n",
        "print(independent.shape, dependent.shape)"
      ],
      "execution_count": 7,
      "outputs": [
        {
          "output_type": "stream",
          "text": [
            "(150, 4) (150, 3)\n"
          ],
          "name": "stdout"
        }
      ]
    },
    {
      "cell_type": "code",
      "metadata": {
        "id": "a-VhL_L2WD6a",
        "colab_type": "code",
        "colab": {}
      },
      "source": [
        "# 2. create structure of model\n",
        "x = tf.keras.layers.Input(shape=[4])\n",
        "\n",
        "# add 3 hidden layers\n",
        "h = tf.keras.layers.Dense(8, activation='swish')(x)\n",
        "h = tf.keras.layers.Dense(8, activation='swish')(h)\n",
        "h = tf.keras.layers.Dense(8, activation='swish')(h)\n",
        "y = tf.keras.layers.Dense(3, activation='softmax')(h)\n",
        "model = tf.keras.models.Model(x, y)\n",
        "model.compile(loss = 'categorical_crossentropy', metrics = 'accuracy')"
      ],
      "execution_count": 8,
      "outputs": []
    },
    {
      "cell_type": "code",
      "metadata": {
        "id": "iOZwu9lwXzOv",
        "colab_type": "code",
        "colab": {
          "base_uri": "https://localhost:8080/",
          "height": 390
        },
        "outputId": "c6e0295a-bff1-4a6f-fcae-26b4b9ae7424"
      },
      "source": [
        "# 3. train model\n",
        "model.fit(independent, dependent, epochs = 1000, verbose = 0)\n",
        "model.fit(independent, dependent, epochs = 10)"
      ],
      "execution_count": 9,
      "outputs": [
        {
          "output_type": "stream",
          "text": [
            "Epoch 1/10\n",
            "5/5 [==============================] - 0s 2ms/step - loss: 0.0504 - accuracy: 0.9800\n",
            "Epoch 2/10\n",
            "5/5 [==============================] - 0s 2ms/step - loss: 0.0487 - accuracy: 0.9733\n",
            "Epoch 3/10\n",
            "5/5 [==============================] - 0s 2ms/step - loss: 0.0421 - accuracy: 0.9800\n",
            "Epoch 4/10\n",
            "5/5 [==============================] - 0s 1ms/step - loss: 0.0490 - accuracy: 0.9800\n",
            "Epoch 5/10\n",
            "5/5 [==============================] - 0s 1ms/step - loss: 0.0520 - accuracy: 0.9733\n",
            "Epoch 6/10\n",
            "5/5 [==============================] - 0s 2ms/step - loss: 0.0441 - accuracy: 0.9800\n",
            "Epoch 7/10\n",
            "5/5 [==============================] - 0s 2ms/step - loss: 0.0491 - accuracy: 0.9800\n",
            "Epoch 8/10\n",
            "5/5 [==============================] - 0s 2ms/step - loss: 0.0542 - accuracy: 0.9800\n",
            "Epoch 9/10\n",
            "5/5 [==============================] - 0s 2ms/step - loss: 0.0478 - accuracy: 0.9867\n",
            "Epoch 10/10\n",
            "5/5 [==============================] - 0s 2ms/step - loss: 0.0424 - accuracy: 0.9867\n"
          ],
          "name": "stdout"
        },
        {
          "output_type": "execute_result",
          "data": {
            "text/plain": [
              "<tensorflow.python.keras.callbacks.History at 0x7ff4b62d1ef0>"
            ]
          },
          "metadata": {
            "tags": []
          },
          "execution_count": 9
        }
      ]
    },
    {
      "cell_type": "code",
      "metadata": {
        "id": "sAMwGEhKYRjF",
        "colab_type": "code",
        "colab": {
          "base_uri": "https://localhost:8080/",
          "height": 106
        },
        "outputId": "ab43270e-3463-4308-8988-ad25b0413268"
      },
      "source": [
        "# 4. use the model\n",
        "model.predict(independent[0:5])"
      ],
      "execution_count": 10,
      "outputs": [
        {
          "output_type": "execute_result",
          "data": {
            "text/plain": [
              "array([[1.0000000e+00, 7.8725187e-10, 7.1628610e-09],\n",
              "       [1.0000000e+00, 3.2092412e-08, 2.0962064e-08],\n",
              "       [1.0000000e+00, 6.3734666e-09, 1.3780650e-08],\n",
              "       [9.9999988e-01, 9.1413163e-08, 2.1867136e-08],\n",
              "       [1.0000000e+00, 5.3147764e-10, 6.4513874e-09]], dtype=float32)"
            ]
          },
          "metadata": {
            "tags": []
          },
          "execution_count": 10
        }
      ]
    },
    {
      "cell_type": "code",
      "metadata": {
        "id": "JavfnHqFYnhC",
        "colab_type": "code",
        "colab": {
          "base_uri": "https://localhost:8080/",
          "height": 124
        },
        "outputId": "78b3cddd-50f7-4c26-eaed-5d7c9f4fa34e"
      },
      "source": [
        "print(dependent[0:5])"
      ],
      "execution_count": 11,
      "outputs": [
        {
          "output_type": "stream",
          "text": [
            "   품종_setosa  품종_versicolor  품종_virginica\n",
            "0          1              0             0\n",
            "1          1              0             0\n",
            "2          1              0             0\n",
            "3          1              0             0\n",
            "4          1              0             0\n"
          ],
          "name": "stdout"
        }
      ]
    },
    {
      "cell_type": "code",
      "metadata": {
        "id": "3kMQssBQbeXO",
        "colab_type": "code",
        "colab": {
          "base_uri": "https://localhost:8080/",
          "height": 106
        },
        "outputId": "106c0f91-65c7-45a8-e856-cad44d76204c"
      },
      "source": [
        "model.predict(independent[-5:])"
      ],
      "execution_count": 12,
      "outputs": [
        {
          "output_type": "execute_result",
          "data": {
            "text/plain": [
              "array([[8.4018981e-10, 4.2248168e-04, 9.9957746e-01],\n",
              "       [4.7496234e-09, 7.7832825e-03, 9.9221671e-01],\n",
              "       [3.0345726e-09, 5.7984428e-03, 9.9420148e-01],\n",
              "       [2.6837621e-10, 1.0287075e-04, 9.9989712e-01],\n",
              "       [9.8172883e-09, 2.3421764e-02, 9.7657824e-01]], dtype=float32)"
            ]
          },
          "metadata": {
            "tags": []
          },
          "execution_count": 12
        }
      ]
    },
    {
      "cell_type": "code",
      "metadata": {
        "id": "o7yM7_1vbzIk",
        "colab_type": "code",
        "colab": {
          "base_uri": "https://localhost:8080/",
          "height": 124
        },
        "outputId": "e7c3cd2d-3232-4fea-a6a9-a43ead40fa88"
      },
      "source": [
        "print(dependent[-5:])"
      ],
      "execution_count": 13,
      "outputs": [
        {
          "output_type": "stream",
          "text": [
            "     품종_setosa  품종_versicolor  품종_virginica\n",
            "145          0              0             1\n",
            "146          0              0             1\n",
            "147          0              0             1\n",
            "148          0              0             1\n",
            "149          0              0             1\n"
          ],
          "name": "stdout"
        }
      ]
    },
    {
      "cell_type": "code",
      "metadata": {
        "id": "25VZ51cfcDkY",
        "colab_type": "code",
        "colab": {
          "base_uri": "https://localhost:8080/",
          "height": 995
        },
        "outputId": "63491f88-c3a6-456a-c933-95afc446d8d3"
      },
      "source": [
        "# print weight and bias\n",
        "model.get_weights()"
      ],
      "execution_count": 14,
      "outputs": [
        {
          "output_type": "execute_result",
          "data": {
            "text/plain": [
              "[array([[-0.39759094, -0.38698715, -0.28744233,  0.13336241, -0.6615622 ,\n",
              "         -0.1446563 , -0.01473106,  0.24997808],\n",
              "        [ 0.51929206,  0.02859916, -0.54125804,  0.51079047,  0.03282497,\n",
              "          0.6764843 , -0.4777213 ,  0.48601443],\n",
              "        [-0.45551065,  0.42408305,  0.35423923, -0.23221536,  0.49942917,\n",
              "          0.5212882 ,  0.41130435, -0.84198123],\n",
              "        [-0.05978721,  0.46736032, -0.6061281 , -0.02459325, -0.62474   ,\n",
              "         -0.0057015 ,  0.6050715 , -0.9491643 ]], dtype=float32),\n",
              " array([ 0.28114042,  0.20595138,  0.12366533,  0.22530371, -0.07636168,\n",
              "         0.03910398, -0.05922315,  0.28771406], dtype=float32),\n",
              " array([[-0.3659009 , -0.19897926, -0.33311167, -0.50321823,  0.240287  ,\n",
              "          0.3136698 ,  0.30864757, -0.22621669],\n",
              "        [-0.7845782 , -1.0682536 , -0.6570886 , -0.21763584,  0.34137067,\n",
              "         -0.34053499,  0.25353235, -0.10611072],\n",
              "        [-0.82528853, -0.8382195 , -0.88784754, -0.23434852, -0.14577816,\n",
              "         -0.68440735,  0.25304958,  0.02698922],\n",
              "        [ 0.37324816, -0.307988  ,  0.3621153 ,  0.24343173, -0.7431606 ,\n",
              "         -0.6224518 , -0.07584145, -0.13522358],\n",
              "        [ 0.08795246, -0.7722363 ,  0.15985282,  0.31467324, -0.03681196,\n",
              "         -0.592217  ,  0.7152658 , -0.41833606],\n",
              "        [ 0.20828904,  0.33323425,  0.10912993,  0.42557466, -0.1390833 ,\n",
              "          0.74777514,  0.42388234, -0.42841083],\n",
              "        [-0.80061996, -0.25609228, -0.3379379 ,  0.5300007 , -0.06902193,\n",
              "          0.80139315,  0.7565116 , -0.5118346 ],\n",
              "        [-0.4036929 , -0.9757731 , -1.1906576 ,  0.7783776 ,  0.06246971,\n",
              "         -1.1252278 ,  0.74860364, -0.10333797]], dtype=float32),\n",
              " array([ 0.3485157 ,  0.31300643,  0.26202488, -0.09554471, -0.2589507 ,\n",
              "         0.10285728, -0.11636934,  0.2291261 ], dtype=float32),\n",
              " array([[-0.47465226,  0.03218399,  0.26139182,  1.0430934 , -0.45205438,\n",
              "         -0.9088324 ,  0.828581  ,  0.10553083],\n",
              "        [ 0.09185377, -1.036661  ,  0.8374793 ,  0.9804016 , -0.03414791,\n",
              "         -0.39678636,  0.48517784, -0.160041  ],\n",
              "        [-0.5113633 ,  0.04385139,  0.9754884 ,  0.3002182 , -0.57025987,\n",
              "          0.38586572,  0.6125697 , -0.5999294 ],\n",
              "        [ 0.48243508,  0.5998274 ,  0.0882602 ,  0.07392533,  0.37729564,\n",
              "          0.38558805, -0.20520592,  0.49036822],\n",
              "        [ 0.4280476 , -0.91412807,  0.33664945, -0.7310721 ,  0.08619007,\n",
              "         -0.32342622, -0.2085198 ,  0.14858529],\n",
              "        [ 0.36342996, -0.55691206,  0.25126037, -0.05411872,  0.4734295 ,\n",
              "         -0.18338506,  0.5533828 , -0.070117  ],\n",
              "        [ 0.23814353,  0.89392257, -0.07175787, -0.32842928,  0.35223293,\n",
              "          0.86972266, -0.5801448 ,  0.36252058],\n",
              "        [ 0.8251484 , -0.08702546, -0.704507  , -1.1274579 ,  0.17176704,\n",
              "          0.716786  , -0.1710666 ,  0.11524965]], dtype=float32),\n",
              " array([-0.22733994,  0.33486095,  0.06649137,  0.40595168, -0.2765363 ,\n",
              "        -0.08409412,  0.18272711,  0.12149701], dtype=float32),\n",
              " array([[-3.8912811 , -0.6005352 ,  0.4227816 ],\n",
              "        [ 2.816128  , -1.1593388 , -0.18502998],\n",
              "        [-2.5464344 ,  0.962205  ,  0.03788413],\n",
              "        [ 2.5477476 ,  1.0759156 , -0.82684505],\n",
              "        [-3.6694398 , -0.04148879,  0.7883958 ],\n",
              "        [-2.8077939 , -0.6957761 ,  0.5441917 ],\n",
              "        [-2.8344982 ,  1.2117003 , -0.504447  ],\n",
              "        [ 2.7181811 , -0.96322525, -0.03101513]], dtype=float32),\n",
              " array([ 1.7210034 ,  0.07892837, -0.30757222], dtype=float32)]"
            ]
          },
          "metadata": {
            "tags": []
          },
          "execution_count": 14
        }
      ]
    },
    {
      "cell_type": "code",
      "metadata": {
        "id": "nstVLFlTcSGk",
        "colab_type": "code",
        "colab": {}
      },
      "source": [
        "# 위 결과의 열은 각 붓꽃 종류를 예측하는 가중치라는 것 > 하나의 수식 \n",
        "# 위에서부터 차례대로 각 독립변수에 곱해지는 값\n",
        "# 마지막 배열은 bias "
      ],
      "execution_count": null,
      "outputs": []
    }
  ]
}