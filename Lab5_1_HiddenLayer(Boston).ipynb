{
  "nbformat": 4,
  "nbformat_minor": 0,
  "metadata": {
    "colab": {
      "name": "Lab5.1_HiddenLayer(Boston).ipynb",
      "provenance": [],
      "authorship_tag": "ABX9TyMyVg3Tbcf9FtnMep5AcJWY",
      "include_colab_link": true
    },
    "kernelspec": {
      "name": "python3",
      "display_name": "Python 3"
    }
  },
  "cells": [
    {
      "cell_type": "markdown",
      "metadata": {
        "id": "view-in-github",
        "colab_type": "text"
      },
      "source": [
        "<a href=\"https://colab.research.google.com/github/minkyeongk/MachineLearning_Basic/blob/master/Lab5_1_HiddenLayer(Boston).ipynb\" target=\"_parent\"><img src=\"https://colab.research.google.com/assets/colab-badge.svg\" alt=\"Open In Colab\"/></a>"
      ]
    },
    {
      "cell_type": "code",
      "metadata": {
        "id": "IxcIzfaRP9wu",
        "colab_type": "code",
        "colab": {}
      },
      "source": [
        "# apply hidden layer to Boston-exercise\n",
        "\n",
        "# import library\n",
        "import tensorflow as tf\n",
        "import pandas as pd"
      ],
      "execution_count": 5,
      "outputs": []
    },
    {
      "cell_type": "code",
      "metadata": {
        "id": "TXcWvfanR-2Y",
        "colab_type": "code",
        "colab": {
          "base_uri": "https://localhost:8080/",
          "height": 253
        },
        "outputId": "2de8febd-dd78-48a4-95e1-ff196ad01b86"
      },
      "source": [
        "# 1. prepare past data \n",
        "file_path = 'https://raw.githubusercontent.com/blackdew/tensorflow1/master/csv/boston.csv'\n",
        "boston = pd.read_csv(file_path)\n",
        "print(boston.columns)\n",
        "boston.head()"
      ],
      "execution_count": 6,
      "outputs": [
        {
          "output_type": "stream",
          "text": [
            "Index(['crim', 'zn', 'indus', 'chas', 'nox', 'rm', 'age', 'dis', 'rad', 'tax',\n",
            "       'ptratio', 'b', 'lstat', 'medv'],\n",
            "      dtype='object')\n"
          ],
          "name": "stdout"
        },
        {
          "output_type": "execute_result",
          "data": {
            "text/html": [
              "<div>\n",
              "<style scoped>\n",
              "    .dataframe tbody tr th:only-of-type {\n",
              "        vertical-align: middle;\n",
              "    }\n",
              "\n",
              "    .dataframe tbody tr th {\n",
              "        vertical-align: top;\n",
              "    }\n",
              "\n",
              "    .dataframe thead th {\n",
              "        text-align: right;\n",
              "    }\n",
              "</style>\n",
              "<table border=\"1\" class=\"dataframe\">\n",
              "  <thead>\n",
              "    <tr style=\"text-align: right;\">\n",
              "      <th></th>\n",
              "      <th>crim</th>\n",
              "      <th>zn</th>\n",
              "      <th>indus</th>\n",
              "      <th>chas</th>\n",
              "      <th>nox</th>\n",
              "      <th>rm</th>\n",
              "      <th>age</th>\n",
              "      <th>dis</th>\n",
              "      <th>rad</th>\n",
              "      <th>tax</th>\n",
              "      <th>ptratio</th>\n",
              "      <th>b</th>\n",
              "      <th>lstat</th>\n",
              "      <th>medv</th>\n",
              "    </tr>\n",
              "  </thead>\n",
              "  <tbody>\n",
              "    <tr>\n",
              "      <th>0</th>\n",
              "      <td>0.00632</td>\n",
              "      <td>18.0</td>\n",
              "      <td>2.31</td>\n",
              "      <td>0</td>\n",
              "      <td>0.538</td>\n",
              "      <td>6.575</td>\n",
              "      <td>65.2</td>\n",
              "      <td>4.0900</td>\n",
              "      <td>1</td>\n",
              "      <td>296</td>\n",
              "      <td>15.3</td>\n",
              "      <td>396.90</td>\n",
              "      <td>4.98</td>\n",
              "      <td>24.0</td>\n",
              "    </tr>\n",
              "    <tr>\n",
              "      <th>1</th>\n",
              "      <td>0.02731</td>\n",
              "      <td>0.0</td>\n",
              "      <td>7.07</td>\n",
              "      <td>0</td>\n",
              "      <td>0.469</td>\n",
              "      <td>6.421</td>\n",
              "      <td>78.9</td>\n",
              "      <td>4.9671</td>\n",
              "      <td>2</td>\n",
              "      <td>242</td>\n",
              "      <td>17.8</td>\n",
              "      <td>396.90</td>\n",
              "      <td>9.14</td>\n",
              "      <td>21.6</td>\n",
              "    </tr>\n",
              "    <tr>\n",
              "      <th>2</th>\n",
              "      <td>0.02729</td>\n",
              "      <td>0.0</td>\n",
              "      <td>7.07</td>\n",
              "      <td>0</td>\n",
              "      <td>0.469</td>\n",
              "      <td>7.185</td>\n",
              "      <td>61.1</td>\n",
              "      <td>4.9671</td>\n",
              "      <td>2</td>\n",
              "      <td>242</td>\n",
              "      <td>17.8</td>\n",
              "      <td>392.83</td>\n",
              "      <td>4.03</td>\n",
              "      <td>34.7</td>\n",
              "    </tr>\n",
              "    <tr>\n",
              "      <th>3</th>\n",
              "      <td>0.03237</td>\n",
              "      <td>0.0</td>\n",
              "      <td>2.18</td>\n",
              "      <td>0</td>\n",
              "      <td>0.458</td>\n",
              "      <td>6.998</td>\n",
              "      <td>45.8</td>\n",
              "      <td>6.0622</td>\n",
              "      <td>3</td>\n",
              "      <td>222</td>\n",
              "      <td>18.7</td>\n",
              "      <td>394.63</td>\n",
              "      <td>2.94</td>\n",
              "      <td>33.4</td>\n",
              "    </tr>\n",
              "    <tr>\n",
              "      <th>4</th>\n",
              "      <td>0.06905</td>\n",
              "      <td>0.0</td>\n",
              "      <td>2.18</td>\n",
              "      <td>0</td>\n",
              "      <td>0.458</td>\n",
              "      <td>7.147</td>\n",
              "      <td>54.2</td>\n",
              "      <td>6.0622</td>\n",
              "      <td>3</td>\n",
              "      <td>222</td>\n",
              "      <td>18.7</td>\n",
              "      <td>396.90</td>\n",
              "      <td>5.33</td>\n",
              "      <td>36.2</td>\n",
              "    </tr>\n",
              "  </tbody>\n",
              "</table>\n",
              "</div>"
            ],
            "text/plain": [
              "      crim    zn  indus  chas    nox  ...  tax  ptratio       b  lstat  medv\n",
              "0  0.00632  18.0   2.31     0  0.538  ...  296     15.3  396.90   4.98  24.0\n",
              "1  0.02731   0.0   7.07     0  0.469  ...  242     17.8  396.90   9.14  21.6\n",
              "2  0.02729   0.0   7.07     0  0.469  ...  242     17.8  392.83   4.03  34.7\n",
              "3  0.03237   0.0   2.18     0  0.458  ...  222     18.7  394.63   2.94  33.4\n",
              "4  0.06905   0.0   2.18     0  0.458  ...  222     18.7  396.90   5.33  36.2\n",
              "\n",
              "[5 rows x 14 columns]"
            ]
          },
          "metadata": {
            "tags": []
          },
          "execution_count": 6
        }
      ]
    },
    {
      "cell_type": "code",
      "metadata": {
        "id": "MaqqNDucSqF1",
        "colab_type": "code",
        "colab": {
          "base_uri": "https://localhost:8080/",
          "height": 35
        },
        "outputId": "4c991033-2f47-4fdf-9470-e14a275d579a"
      },
      "source": [
        "# separate independent and dependent variables\n",
        "independent = boston[['crim', 'zn', 'indus', 'chas', 'nox', 'rm', 'age', 'dis', 'rad', 'tax', 'ptratio', 'b', 'lstat']]\n",
        "dependent = boston[['medv']]\n",
        "print(independent.shape, dependent.shape)"
      ],
      "execution_count": 7,
      "outputs": [
        {
          "output_type": "stream",
          "text": [
            "(506, 13) (506, 1)\n"
          ],
          "name": "stdout"
        }
      ]
    },
    {
      "cell_type": "code",
      "metadata": {
        "id": "qnDtw_KnT5_Z",
        "colab_type": "code",
        "colab": {}
      },
      "source": [
        "# 2. create model-structure \n",
        "x = tf.keras.layers.Input(shape=[13])\n",
        "h = tf.keras.layers.Dense(10, activation='swish')(x)\n",
        "y = tf.keras.layers.Dense(1)(h)\n",
        "model = tf.keras.models.Model(x, y)\n",
        "model.compile(loss='mse')"
      ],
      "execution_count": 9,
      "outputs": []
    },
    {
      "cell_type": "code",
      "metadata": {
        "id": "5fKu8HrMM52G",
        "colab_type": "code",
        "colab": {
          "base_uri": "https://localhost:8080/",
          "height": 266
        },
        "outputId": "f00f1f44-51d5-4fb9-8aff-25444caa9e68"
      },
      "source": [
        "# check structure of model \n",
        "model.summary()\n",
        "\n",
        "# 파라미터는 컴퓨터가 학습하는 가중치의 개수, 항이 13개에 bias 하나 \n",
        "# 14 * 10 = 140, 140개의 가중치를 찾아야 한다 "
      ],
      "execution_count": 12,
      "outputs": [
        {
          "output_type": "stream",
          "text": [
            "Model: \"functional_1\"\n",
            "_________________________________________________________________\n",
            "Layer (type)                 Output Shape              Param #   \n",
            "=================================================================\n",
            "input_2 (InputLayer)         [(None, 13)]              0         \n",
            "_________________________________________________________________\n",
            "dense_2 (Dense)              (None, 10)                140       \n",
            "_________________________________________________________________\n",
            "dense_3 (Dense)              (None, 1)                 11        \n",
            "=================================================================\n",
            "Total params: 151\n",
            "Trainable params: 151\n",
            "Non-trainable params: 0\n",
            "_________________________________________________________________\n"
          ],
          "name": "stdout"
        }
      ]
    },
    {
      "cell_type": "code",
      "metadata": {
        "id": "PcI2DRLaUjnb",
        "colab_type": "code",
        "colab": {
          "base_uri": "https://localhost:8080/",
          "height": 390
        },
        "outputId": "9e20416d-ac92-4861-cb87-9ff98657a1fa"
      },
      "source": [
        "# 3. model fitting \n",
        "model.fit(independent, dependent, epochs = 100000, verbose = 0)\n",
        "model.fit(independent, dependent, epochs = 10)"
      ],
      "execution_count": 10,
      "outputs": [
        {
          "output_type": "stream",
          "text": [
            "Epoch 1/10\n",
            "16/16 [==============================] - 0s 1ms/step - loss: 11.4674\n",
            "Epoch 2/10\n",
            "16/16 [==============================] - 0s 1ms/step - loss: 11.8567\n",
            "Epoch 3/10\n",
            "16/16 [==============================] - 0s 1ms/step - loss: 11.3367\n",
            "Epoch 4/10\n",
            "16/16 [==============================] - 0s 1ms/step - loss: 11.2588\n",
            "Epoch 5/10\n",
            "16/16 [==============================] - 0s 1ms/step - loss: 11.8734\n",
            "Epoch 6/10\n",
            "16/16 [==============================] - 0s 1ms/step - loss: 11.1582\n",
            "Epoch 7/10\n",
            "16/16 [==============================] - 0s 1ms/step - loss: 11.5634\n",
            "Epoch 8/10\n",
            "16/16 [==============================] - 0s 1ms/step - loss: 11.4159\n",
            "Epoch 9/10\n",
            "16/16 [==============================] - 0s 1ms/step - loss: 11.1886\n",
            "Epoch 10/10\n",
            "16/16 [==============================] - 0s 1ms/step - loss: 11.1784\n"
          ],
          "name": "stdout"
        },
        {
          "output_type": "execute_result",
          "data": {
            "text/plain": [
              "<tensorflow.python.keras.callbacks.History at 0x7f1650d0d9e8>"
            ]
          },
          "metadata": {
            "tags": []
          },
          "execution_count": 10
        }
      ]
    },
    {
      "cell_type": "code",
      "metadata": {
        "id": "abcUAoOoWj4c",
        "colab_type": "code",
        "colab": {
          "base_uri": "https://localhost:8080/",
          "height": 106
        },
        "outputId": "e85f3c78-595c-4701-ef34-098821ac8dce"
      },
      "source": [
        "# 4. use model\n",
        "model.predict(independent[0:5])"
      ],
      "execution_count": 13,
      "outputs": [
        {
          "output_type": "execute_result",
          "data": {
            "text/plain": [
              "array([[27.49713 ],\n",
              "       [24.252022],\n",
              "       [31.085308],\n",
              "       [30.15395 ],\n",
              "       [30.699553]], dtype=float32)"
            ]
          },
          "metadata": {
            "tags": []
          },
          "execution_count": 13
        }
      ]
    },
    {
      "cell_type": "code",
      "metadata": {
        "id": "VVepVhwtW-2r",
        "colab_type": "code",
        "colab": {
          "base_uri": "https://localhost:8080/",
          "height": 200
        },
        "outputId": "51e8398e-7cf6-4a08-e3b0-e8c98497f047"
      },
      "source": [
        "dependent[0:5]    # list slicing "
      ],
      "execution_count": 14,
      "outputs": [
        {
          "output_type": "execute_result",
          "data": {
            "text/html": [
              "<div>\n",
              "<style scoped>\n",
              "    .dataframe tbody tr th:only-of-type {\n",
              "        vertical-align: middle;\n",
              "    }\n",
              "\n",
              "    .dataframe tbody tr th {\n",
              "        vertical-align: top;\n",
              "    }\n",
              "\n",
              "    .dataframe thead th {\n",
              "        text-align: right;\n",
              "    }\n",
              "</style>\n",
              "<table border=\"1\" class=\"dataframe\">\n",
              "  <thead>\n",
              "    <tr style=\"text-align: right;\">\n",
              "      <th></th>\n",
              "      <th>medv</th>\n",
              "    </tr>\n",
              "  </thead>\n",
              "  <tbody>\n",
              "    <tr>\n",
              "      <th>0</th>\n",
              "      <td>24.0</td>\n",
              "    </tr>\n",
              "    <tr>\n",
              "      <th>1</th>\n",
              "      <td>21.6</td>\n",
              "    </tr>\n",
              "    <tr>\n",
              "      <th>2</th>\n",
              "      <td>34.7</td>\n",
              "    </tr>\n",
              "    <tr>\n",
              "      <th>3</th>\n",
              "      <td>33.4</td>\n",
              "    </tr>\n",
              "    <tr>\n",
              "      <th>4</th>\n",
              "      <td>36.2</td>\n",
              "    </tr>\n",
              "  </tbody>\n",
              "</table>\n",
              "</div>"
            ],
            "text/plain": [
              "   medv\n",
              "0  24.0\n",
              "1  21.6\n",
              "2  34.7\n",
              "3  33.4\n",
              "4  36.2"
            ]
          },
          "metadata": {
            "tags": []
          },
          "execution_count": 14
        }
      ]
    },
    {
      "cell_type": "code",
      "metadata": {
        "id": "AKUKlKTPXpcb",
        "colab_type": "code",
        "colab": {
          "base_uri": "https://localhost:8080/",
          "height": 1000
        },
        "outputId": "86e68afd-efc1-485c-fcb6-28d7219a11f9"
      },
      "source": [
        "# check the model's fomula (get weights)\n",
        "model.get_weights()"
      ],
      "execution_count": 15,
      "outputs": [
        {
          "output_type": "execute_result",
          "data": {
            "text/plain": [
              "[array([[-2.83040404e-01,  2.19869542e+00, -4.34152484e-01,\n",
              "         -8.31735134e-01,  3.84168684e-01,  4.09859002e-01,\n",
              "          6.98834658e-02,  1.68356657e-01,  3.23951721e-01,\n",
              "          4.52011228e-02],\n",
              "        [ 1.07467048e-01, -4.00817811e-01, -2.06541896e-01,\n",
              "          1.12195170e+00, -2.25764990e-01,  3.16105396e-01,\n",
              "         -3.99900347e-01, -8.34294967e-03, -3.35077912e-01,\n",
              "          4.19898570e-01],\n",
              "        [ 6.53573811e-01,  1.89764965e-02, -4.09446180e-01,\n",
              "         -8.46439674e-02, -2.19359726e-01, -1.53611410e+00,\n",
              "         -3.31718326e-01,  9.28257167e-01,  4.42686081e-01,\n",
              "          3.43919516e-01],\n",
              "        [ 1.43820298e+00, -1.66529608e+00,  4.27764386e-01,\n",
              "         -2.27710128e+00,  4.79945898e-01,  1.01785078e+01,\n",
              "         -2.32001990e-01,  4.73555708e+00, -5.00790060e-01,\n",
              "         -1.66296065e-01],\n",
              "        [ 3.92130828e+00, -8.68224561e-01, -4.55078483e-01,\n",
              "         -2.99352970e+01, -4.94185090e-01,  1.58198863e-01,\n",
              "          3.66805673e-01, -9.01147938e+00,  3.37408423e-01,\n",
              "          5.09181678e-01],\n",
              "        [-1.06384096e+01, -9.98424530e+00,  4.55247104e-01,\n",
              "         -2.84512401e+00, -6.16803169e-02, -4.01491970e-01,\n",
              "         -4.17638689e-01, -2.41360950e+00,  5.37620187e-02,\n",
              "         -7.19253421e-02],\n",
              "        [ 6.47217482e-02, -3.27771574e-01, -2.69660056e-01,\n",
              "          5.13533235e-01, -1.29201889e-01, -5.95205843e-01,\n",
              "         -2.12824047e-01, -2.68746912e-01, -4.40073222e-01,\n",
              "         -3.11731279e-01],\n",
              "        [-2.58792877e-01,  1.78566888e-01,  4.68567282e-01,\n",
              "         -1.45306702e+01,  1.15080595e-01, -8.90009180e-02,\n",
              "          2.22797871e-01, -3.68511295e+00, -2.43999213e-01,\n",
              "         -3.04535359e-01],\n",
              "        [-1.92964822e-01, -2.70406127e+00,  2.09238723e-01,\n",
              "         -5.60775697e-01,  3.58099639e-01,  4.19608212e+00,\n",
              "         -1.09212428e-01, -9.58839834e-01, -1.03794128e-01,\n",
              "          3.97846401e-01],\n",
              "        [-1.18034221e-01,  8.23222175e-02, -4.81414944e-01,\n",
              "          1.96182624e-01, -1.01454765e-01, -2.98449308e-01,\n",
              "         -9.11217928e-03, -2.36648172e-01, -2.55219162e-01,\n",
              "         -4.24887836e-01],\n",
              "        [ 6.01661682e-01, -9.39961374e-01,  3.03925443e-02,\n",
              "         -9.29535985e-01, -4.47940975e-01, -4.29699123e-01,\n",
              "         -3.45503032e-01, -1.32532620e+00, -2.87377268e-01,\n",
              "         -1.37648314e-01],\n",
              "        [ 2.68519402e-01,  3.17774862e-01,  1.76137924e-01,\n",
              "         -2.04574000e-02, -3.48995984e-01,  1.07799418e-01,\n",
              "         -3.94655943e-01,  5.97751975e-01, -1.79878533e-01,\n",
              "         -4.53572154e-01],\n",
              "        [ 2.91194510e+00, -1.64194632e+00, -3.85908961e-01,\n",
              "         -5.05072117e+00, -3.88199657e-01,  2.86606494e-02,\n",
              "         -2.63315111e-01,  4.54787922e+00,  6.75025582e-02,\n",
              "          1.90969765e-01]], dtype=float32),\n",
              " array([-5.9253535e+00,  3.6604772e+00, -2.0303242e-02,  5.3692503e+00,\n",
              "         4.7145625e-22,  3.7970174e-02, -1.6148461e-11,  6.4564214e+00,\n",
              "         0.0000000e+00,  0.0000000e+00], dtype=float32),\n",
              " array([[ -0.5853268 ],\n",
              "        [ -0.19503939],\n",
              "        [  0.33824328],\n",
              "        [  0.5535772 ],\n",
              "        [  0.23404616],\n",
              "        [-28.261057  ],\n",
              "        [ -0.03179687],\n",
              "        [  0.30411744],\n",
              "        [  0.6664931 ],\n",
              "        [  0.12420565]], dtype=float32),\n",
              " array([13.068794], dtype=float32)]"
            ]
          },
          "metadata": {
            "tags": []
          },
          "execution_count": 15
        }
      ]
    }
  ]
}